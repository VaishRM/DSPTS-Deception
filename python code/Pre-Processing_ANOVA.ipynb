{
 "cells": [
  {
   "cell_type": "code",
   "execution_count": 1,
   "id": "b735b327",
   "metadata": {},
   "outputs": [],
   "source": [
    "import os\n",
    "import scipy.io\n",
    "import neurokit2 as nk\n",
    "import numpy as np\n",
    "import pandas as pd"
   ]
  },
  {
   "cell_type": "code",
   "execution_count": 2,
   "id": "61e0909b",
   "metadata": {},
   "outputs": [],
   "source": [
    "# Specify the directory where your .mat files are\n",
    "directory = \"C:/Users/rmvai/Documents/Spring 2023/DSPTS/final project data\""
   ]
  },
  {
   "cell_type": "code",
   "execution_count": 3,
   "id": "c10ad95a",
   "metadata": {},
   "outputs": [],
   "source": [
    "# Create empty DataFrames for ECG and EDA data\n",
    "all_ecg_data = pd.DataFrame()\n",
    "all_eda_data = pd.DataFrame()"
   ]
  },
  {
   "cell_type": "code",
   "execution_count": 4,
   "id": "c86df6d6",
   "metadata": {},
   "outputs": [
    {
     "name": "stderr",
     "output_type": "stream",
     "text": [
      "C:\\Users\\rmvai\\anaconda3\\lib\\site-packages\\neurokit2\\hrv\\hrv_time.py:227: RuntimeWarning: Mean of empty slice\n",
      "  avg_rri.append(np.nanmean(rri[start_idx:end_idx]))\n",
      "C:\\Users\\rmvai\\anaconda3\\lib\\site-packages\\numpy\\lib\\nanfunctions.py:1664: RuntimeWarning: Degrees of freedom <= 0 for slice.\n",
      "  var = nanvar(a, axis=axis, dtype=dtype, out=out, ddof=ddof,\n"
     ]
    }
   ],
   "source": [
    "# Loop through the .mat files in the directory\n",
    "for i in range(8, 31):  # Files from 8 to 30\n",
    "    filename = f\"Physio_Events_{i}.mat\"\n",
    "    filepath = os.path.join(directory, filename)\n",
    "\n",
    "    if os.path.exists(filepath):\n",
    "        # Load each .mat file\n",
    "        mat = scipy.io.loadmat(filepath)\n",
    "\n",
    "        # Extract data field inside 'bp_data'\n",
    "        data = mat['bp_data']['data'][0, 0]\n",
    "\n",
    "        # Extract ECG and EDA signals\n",
    "        ecg_signal = data[:, 2]  # ECG is the 3rd column (0-indexed)\n",
    "        eda_signal = data[:, 3]  # EDA is the 4th column (0-indexed)\n",
    "\n",
    "        # Process the ECG signal\n",
    "        processed_ecg, info = nk.ecg_process(ecg_signal)\n",
    "\n",
    "        # Compute HR\n",
    "        hr = nk.ecg_rate(info['ECG_R_Peaks'], sampling_rate=1000, desired_length=len(ecg_signal))\n",
    "\n",
    "        # Convert HR from numpy array to DataFrame\n",
    "        hr = pd.DataFrame(hr, columns=['HR'])\n",
    "\n",
    "        # Compute HRV\n",
    "        hrv = nk.hrv_time(info['ECG_R_Peaks'], sampling_rate=1000)\n",
    "\n",
    "        # Concatenate HR and HRV data and append to all_ecg_data\n",
    "        ecg_data = pd.concat([hr, hrv], axis=1)\n",
    "        ecg_data['file'] = filename  # Add a column to specify which file this data came from\n",
    "        all_ecg_data = all_ecg_data.append(ecg_data)\n",
    "\n",
    "        # Process the EDA signal\n",
    "        processed_eda, info = nk.eda_process(eda_signal)\n",
    "\n",
    "        # Compute SCL and SCR\n",
    "        scl = np.mean(processed_eda['EDA_Tonic'])\n",
    "        scr = np.mean(processed_eda['EDA_Phasic'])\n",
    "\n",
    "        # Create DataFrame and append to all_eda_data\n",
    "        eda_data = pd.DataFrame({'SCL': [scl], 'SCR': [scr], 'file': filename})\n",
    "        all_eda_data = all_eda_data.append(eda_data)"
   ]
  },
  {
   "cell_type": "code",
   "execution_count": 5,
   "id": "70eabbde",
   "metadata": {},
   "outputs": [],
   "source": [
    "# Save the full ECG and EDA data to CSV files\n",
    "all_ecg_data.to_csv('all_ecg_data.csv')\n",
    "all_eda_data.to_csv('all_eda_data.csv')"
   ]
  },
  {
   "cell_type": "code",
   "execution_count": 6,
   "id": "9a42e06c",
   "metadata": {},
   "outputs": [],
   "source": [
    "# Empty DataFrame to hold data for all files\n",
    "ecg_all = pd.DataFrame()\n",
    "eda_all = pd.DataFrame()"
   ]
  },
  {
   "cell_type": "code",
   "execution_count": 7,
   "id": "76ea8689",
   "metadata": {},
   "outputs": [],
   "source": [
    "# Iterate over files in the directory\n",
    "for filename in os.listdir(directory):\n",
    "    if filename.endswith(\".mat\"):\n",
    "        # Load the .mat file\n",
    "        mat = scipy.io.loadmat(os.path.join(directory, filename))\n",
    "        \n",
    "        # Get ECG and EDA data\n",
    "        ecg_signal = mat['bp_data']['data'][0][0][:, 2]\n",
    "        eda_signal = mat['bp_data']['data'][0][0][:, 3]\n",
    "        \n",
    "        # Process the ECG signal\n",
    "        processed_ecg, info = nk.ecg_process(ecg_signal, sampling_rate=1000)\n",
    "\n",
    "        # Compute HR\n",
    "        hr = nk.ecg_rate(info['ECG_R_Peaks'], sampling_rate=1000)\n",
    "        \n",
    "        # Save ECG data to DataFrame\n",
    "        ecg_data = pd.DataFrame({'HR': hr})\n",
    "        ecg_data['file'] = filename\n",
    "        ecg_all = pd.concat([ecg_all, ecg_data])\n",
    "        \n",
    "        # Process the EDA signal\n",
    "        processed_eda, _ = nk.eda_process(eda_signal, sampling_rate=1000)\n",
    "        \n",
    "        # Compute SCL and SCR\n",
    "        scl = np.mean(processed_eda['EDA_Tonic'])\n",
    "        scr = np.mean(processed_eda['EDA_Phasic'])\n",
    "\n",
    "        # Save EDA data to DataFrame\n",
    "        eda_data = pd.DataFrame({'SCL': [scl], 'SCR': [scr]}, index=[filename])\n",
    "        eda_all = pd.concat([eda_all, eda_data])\n"
   ]
  },
  {
   "cell_type": "code",
   "execution_count": 8,
   "id": "b29038b3",
   "metadata": {},
   "outputs": [],
   "source": [
    "\n",
    "# Save combined data to CSV\n",
    "ecg_all.to_csv('ecg_data_all.csv')\n",
    "eda_all.to_csv('eda_data_all.csv')\n"
   ]
  },
  {
   "cell_type": "code",
   "execution_count": 9,
   "id": "162277d0",
   "metadata": {},
   "outputs": [],
   "source": [
    "from scipy.stats import iqr\n",
    "import statsmodels.api as sm\n",
    "from statsmodels.formula.api import ols\n",
    "import re"
   ]
  },
  {
   "cell_type": "code",
   "execution_count": 10,
   "id": "2b535879",
   "metadata": {},
   "outputs": [],
   "source": [
    "# Iterate over files in the directory\n",
    "for filename in os.listdir(directory):\n",
    "    if filename.endswith(\".mat\"):\n",
    "        # Load the .mat file\n",
    "        mat = scipy.io.loadmat(os.path.join(directory, filename))\n",
    "        \n",
    "        # Get ECG and EDA data\n",
    "        ecg_signal = mat['bp_data']['data'][0][0][:, 2]\n",
    "        eda_signal = mat['bp_data']['data'][0][0][:, 3]\n",
    "        \n",
    "        # Process the ECG signal\n",
    "        processed_ecg, info = nk.ecg_process(ecg_signal, sampling_rate=1000)\n",
    "\n",
    "        # Compute HR\n",
    "        hr = nk.ecg_rate(info['ECG_R_Peaks'], sampling_rate=1000)\n",
    "        # Compute HRV\n",
    "        rr_intervals = np.diff(info['ECG_R_Peaks']) / 1000  # convert to seconds\n",
    "        hrv = iqr(rr_intervals)\n",
    "        \n",
    "        # Save ECG data to DataFrame\n",
    "        ecg_data = pd.DataFrame({'HR': hr, 'HRV': hrv})\n",
    "        ecg_data['file'] = filename\n",
    "        ecg_all = pd.concat([ecg_all, ecg_data])\n",
    "        \n",
    "        # Process the EDA signal\n",
    "        processed_eda, _ = nk.eda_process(eda_signal, sampling_rate=1000)\n",
    "        \n",
    "        # Compute SCL and SCR\n",
    "        scl = np.mean(processed_eda['EDA_Tonic'])\n",
    "        scr = np.mean(processed_eda['EDA_Phasic'])\n",
    "\n",
    "        # Save EDA data to DataFrame\n",
    "        eda_data = pd.DataFrame({'SCL': [scl], 'SCR': [scr]})\n",
    "        eda_data['file'] = filename\n",
    "        eda_all = pd.concat([eda_all, eda_data])"
   ]
  },
  {
   "cell_type": "code",
   "execution_count": 11,
   "id": "033c0175",
   "metadata": {},
   "outputs": [],
   "source": [
    "# Load the deception blocks information\n",
    "deception_blocks = {\n",
    "    \"Deceptive_in_3_4\": [1, 2, 3, 7, 21, 22, 23, 24, 27, 29],\n",
    "    \"Deceptive_in_6_7\": [4, 5, 6, 8, 9, 10, 11, 12, 13, 14, 15, 16, 17, 18, 19, 20, 25, 26, 28]\n",
    "}"
   ]
  },
  {
   "cell_type": "code",
   "execution_count": 13,
   "id": "0343ef95",
   "metadata": {},
   "outputs": [],
   "source": [
    "# Convert file names to subject numbers\n",
    "#ecg_all['subject'] = ecg_all['file'].apply(lambda x: int(re.findall(r'\\d+', x)[0]))\n",
    "#eda_all['subject'] = eda_all['file'].apply(lambda x: int(re.findall(r'\\d+', x)[0]))\n",
    "# Check type of 'file' and apply function only if it's a string\n",
    "ecg_all['subject'] = ecg_all['file'].apply(lambda x: int(re.findall(r'\\d+', x)[0]) if isinstance(x, str) else np.nan)\n",
    "eda_all['subject'] = eda_all['file'].apply(lambda x: int(re.findall(r'\\d+', x)[0]) if isinstance(x, str) else np.nan)\n"
   ]
  },
  {
   "cell_type": "code",
   "execution_count": 14,
   "id": "d3a3d85a",
   "metadata": {},
   "outputs": [],
   "source": [
    "# Assign deception block labels\n",
    "ecg_all['deception_block'] = np.where(ecg_all['subject'].isin(deception_blocks['Deceptive_in_3_4']), '3_4', '6_7')\n",
    "eda_all['deception_block'] = np.where(eda_all['subject'].isin(deception_blocks['Deceptive_in_3_4']), '3_4', '6_7')\n"
   ]
  },
  {
   "cell_type": "code",
   "execution_count": 15,
   "id": "87b8b5a7",
   "metadata": {},
   "outputs": [],
   "source": [
    "# Combine ECG and EDA data\n",
    "data_all = pd.merge(ecg_all, eda_all, on=['subject', 'deception_block'])\n"
   ]
  },
  {
   "cell_type": "code",
   "execution_count": 16,
   "id": "68bd0197",
   "metadata": {},
   "outputs": [],
   "source": [
    "# Save combined data to CSV\n",
    "data_all.to_csv('physio_data_all.csv')\n"
   ]
  },
  {
   "cell_type": "code",
   "execution_count": 17,
   "id": "fed22e0f",
   "metadata": {},
   "outputs": [],
   "source": [
    "# Run the ANOVA tests"
   ]
  },
  {
   "cell_type": "code",
   "execution_count": 18,
   "id": "25666f9c",
   "metadata": {},
   "outputs": [
    {
     "name": "stdout",
     "output_type": "stream",
     "text": [
      "HR ANOVA table:\n",
      "                           sum_sq       df           F        PR(>F)\n",
      "C(deception_block)  3.161922e+05      1.0  122.590704  2.063429e-28\n",
      "Residual            5.286434e+07  20496.0         NaN           NaN\n"
     ]
    }
   ],
   "source": [
    "# HR\n",
    "model_hr = ols('HR ~ C(deception_block)', data=data_all).fit()\n",
    "anova_table_hr = sm.stats.anova_lm(model_hr, typ=2)\n",
    "print(\"HR ANOVA table:\\n\", anova_table_hr)"
   ]
  },
  {
   "cell_type": "code",
   "execution_count": 19,
   "id": "16e6baf2",
   "metadata": {},
   "outputs": [
    {
     "name": "stdout",
     "output_type": "stream",
     "text": [
      "\n",
      "HRV ANOVA table:\n",
      "                           sum_sq       df           F        PR(>F)\n",
      "C(deception_block)   1058.369940      1.0  219.914945  3.053194e-49\n",
      "Residual            49315.051251  10247.0         NaN           NaN\n"
     ]
    }
   ],
   "source": [
    "# HRV\n",
    "model_hrv = ols('HRV ~ C(deception_block)', data=data_all).fit()\n",
    "anova_table_hrv = sm.stats.anova_lm(model_hrv, typ=2)\n",
    "print(\"\\nHRV ANOVA table:\\n\", anova_table_hrv)\n"
   ]
  },
  {
   "cell_type": "code",
   "execution_count": 20,
   "id": "20d66990",
   "metadata": {},
   "outputs": [
    {
     "name": "stdout",
     "output_type": "stream",
     "text": [
      "\n",
      "SCL ANOVA table:\n",
      "                       sum_sq       df             F  PR(>F)\n",
      "C(deception_block)  0.058778      1.0  11360.407585     0.0\n",
      "Residual            0.106045  20496.0           NaN     NaN\n"
     ]
    }
   ],
   "source": [
    "# SCL\n",
    "model_scl = ols('SCL ~ C(deception_block)', data=data_all).fit()\n",
    "anova_table_scl = sm.stats.anova_lm(model_scl, typ=2)\n",
    "print(\"\\nSCL ANOVA table:\\n\", anova_table_scl)"
   ]
  },
  {
   "cell_type": "code",
   "execution_count": 21,
   "id": "54ae857c",
   "metadata": {},
   "outputs": [
    {
     "name": "stdout",
     "output_type": "stream",
     "text": [
      "\n",
      "SCR ANOVA table:\n",
      "                           sum_sq       df         F    PR(>F)\n",
      "C(deception_block)  1.193074e-08      1.0  0.388012  0.533353\n",
      "Residual            6.302186e-04  20496.0       NaN       NaN\n"
     ]
    }
   ],
   "source": [
    "# SCR\n",
    "model_scr = ols('SCR ~ C(deception_block)', data=data_all).fit()\n",
    "anova_table_scr = sm.stats.anova_lm(model_scr, typ=2)\n",
    "print(\"\\nSCR ANOVA table:\\n\", anova_table_scr)"
   ]
  },
  {
   "cell_type": "code",
   "execution_count": null,
   "id": "ffe63766",
   "metadata": {},
   "outputs": [],
   "source": []
  }
 ],
 "metadata": {
  "kernelspec": {
   "display_name": "Python 3",
   "language": "python",
   "name": "python3"
  },
  "language_info": {
   "codemirror_mode": {
    "name": "ipython",
    "version": 3
   },
   "file_extension": ".py",
   "mimetype": "text/x-python",
   "name": "python",
   "nbconvert_exporter": "python",
   "pygments_lexer": "ipython3",
   "version": "3.8.8"
  }
 },
 "nbformat": 4,
 "nbformat_minor": 5
}
